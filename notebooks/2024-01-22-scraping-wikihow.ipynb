{
 "cells": [
  {
   "cell_type": "code",
   "execution_count": 1,
   "metadata": {},
   "outputs": [],
   "source": [
    "from lxml import html\n",
    "import requests\n",
    "import urllib"
   ]
  },
  {
   "cell_type": "code",
   "execution_count": 2,
   "metadata": {},
   "outputs": [],
   "source": [
    "# wikihow has a rather streamline API\n",
    "url = \"https://www.wikihow.com/Play-Gin-Rummy\"\n",
    "url = \"https://www.wikihow.com/Overcome-an-Avoidant-Personality-Disorder\"\n",
    "\n",
    "# there also is a RU wikihow website\n",
    "url = \"https://ru.wikihow.com/%D0%BD%D0%B0%D1%83%D1%87%D0%B8%D1%82%D1%8C%D1%81%D1%8F-%D0%B1%D1%8B%D1%81%D1%82%D1%80%D0%B5%D0%B5-%D0%B1%D0%B5%D0%B3%D0%B0%D1%82%D1%8C\"\n",
    "\n",
    "# we can access random pages using a special enpoint\n",
    "wikihow_url = \"https://www.wikihow.com\"\n",
    "random_page_url = \"Special:Randomizer\"\n",
    "\n",
    "# similar endpoint exists for RU version\n",
    "random_page_url_ru = \"%D0%A1%D0%BB%D1%83%D0%B6%D0%B5%D0%B1%D0%BD%D0%B0%D1%8F:Randomizer\"\n",
    "wikihow_url_ru = \"https://ru.wikihow.com\""
   ]
  },
  {
   "cell_type": "code",
   "execution_count": 3,
   "metadata": {},
   "outputs": [
    {
     "name": "stdout",
     "output_type": "stream",
     "text": [
      "https://www.wikihow.com/Clean-a-Mother-Dog-After-She-Gives-Birth\n"
     ]
    }
   ],
   "source": [
    "# with requests.get(url=f\"{wikihow_url_ru}/{random_page_url_ru}\") as response:\n",
    "# with requests.get(url=\"https://ru.wikihow.com/%D0%BF%D0%BE%D1%85%D1%83%D0%B4%D0%B5%D1%82%D1%8C-%D0%BC%D0%B5%D0%B4%D0%BB%D0%B5%D0%BD%D0%BD%D0%BE\") as response:\n",
    "#     tree = html.fromstring(response.text)\n",
    "#     print(response.url)\n",
    "\n",
    "# https://www.wikihow.com/Reset-Your-Life\n",
    "with requests.get(url=f\"{wikihow_url}/{random_page_url}\") as response:\n",
    "    tree = html.fromstring(response.text)\n",
    "    # URL is generated dynamically and is unknown in prior,\n",
    "    # but can be accessed via .url property of response object\n",
    "    print(response.url)"
   ]
  },
  {
   "cell_type": "code",
   "execution_count": 4,
   "metadata": {},
   "outputs": [
    {
     "name": "stdout",
     "output_type": "stream",
     "text": [
      "words: 775\n",
      "0 - Remove all soiled items after the birth.\n",
      "1 - After the mother dog is finished giving birth, you should remove all the soiled newspaper, blankets, or other material. This material will contain blood, fluid, and tissue from the birth.\n",
      "2 - Removing the soiled items promptly reduces the risk of contamination and infection.\n",
      "3 - Fix the mother and her litter a clean, soft bed.\n",
      "4 - After you remove the soiled material in the whelping box, replace it with clean blankets. You may consider placing newspaper down, especially in the first few days because the mother may not leave the puppies, even to go to the bathroom.\n",
      "5 - Make sure the bedding is appropriate for the puppies, as well. It should not have any loose threads or large loops that could wrap around limbs, no holes that the puppies could become trapped under, and nothing so big or plush that it could smother a puppy.\n",
      "6 - Replace the bedding daily.\n",
      "7 - During the first few weeks, the bedding in the whelping box should be removed and replaced with clean bedding. This should be done multiple times each day. For the first few days, the mother dog may not even leave the box to go to the bathroom, so you should keep an eye on the bedding in case this happens and change it immediately.\n",
      "8 - The mother dog will also be responsible for the elimination of waste in the puppies during the first few weeks, so the puppy’s waste may end up on the bedding, too.\n",
      "9 - Be sure to stay away from inappropriate bedding material such as wood shavings or sawdust. While these might be absorbent in the case of an accident, they can be dangerous to both mother and puppies. A soft, washable fabric with disposable liner sheets underneath is ideal.\n",
      "10 - Use a damp cloth to clean the mother.\n",
      "11 - After the birth, you should use a warm, damp cloth to clean the mother. Wipe all blood, tissue, and fluid from the mother’s fur and skin, wiping back from the vulva. This helps prevent the growth of bacteria and reduces the risk of infection.\n",
      "12 - The mother dog will pass fluid and tissue through the next few weeks. You should continue to clean this up when you see it to keep the mother dog and the puppies free from bacteria.\n",
      "13 - Try not to upset the mother.\n",
      "14 - When you clean the mother, do it gently. Don’t upset her by being rough with her or cleaning her too harshly. When you wash around the birth area, make sure to be gentle.\n",
      "15 - When you are cleaning the mother, make sure not to take her away from the puppies. Moving away from the puppies can upset her.\n",
      "16 - Pick up any leftover placenta.\n",
      "17 - The mother dog will clean the puppies and eat the placenta as she births each puppy. However, if the mother does not have time to do this with every puppy, the placenta may remain on the puppies and in the box. If this happens, gently remove the placenta with a warm, damp towel.\n",
      "18 - Be careful when removing the placenta from the puppies. Use gentle, tender strokes to clean the puppies, and avoid the umbilical area.\n",
      "19 - Refrain giving the dog a bath for a few days.\n",
      "20 - The mother dog will want to spend all of her time with her puppies in the first few weeks. This is especially true for the first few days. The puppies will use their sense of smell to connect to the mother dog during this time. This means you should avoid giving your dog a bath for the first few days.\n",
      "21 - Instead, wait two to five days after the birth to give the mother dog a bath.\n",
      "22 - Make sure the mother dog is completely dry before returning to the box.\n",
      "23 - When you give your dog a bath, make sure to dry their underbelly really well with a towel. Let them air dry for a few minutes if possible. This is especially important for long-haired dogs. A wet underbelly can cause the puppies to get chilled, which could lead to a drop in temperature, which can be fatal for puppies.\n",
      "24 - If you have a long-haired dog, you may want to dry their hair using a blowdryer.\n",
      "25 - Trim the dog’s hair.\n",
      "26 - If your dog has long hair, you may want to trim the hair from the underside of her body. This can help the puppies find the nipples and help keep that area clean from any waste or bacteria.\n",
      "27 - You may also want to trim the hair around her bottom before the birth to reduce the mess. If the hair has blood, fluid, or tissue in it from the birth, you may consider just trimming the hair.\n"
     ]
    }
   ],
   "source": [
    "# xpath cheatsheet: https://devhints.io/xpath#class-check\n",
    "\n",
    "# no idea how to simplify these further,\n",
    "# but these queries seem to work nicely for both EN and RU versions\n",
    "# of the website\n",
    "query = \"|\".join(\n",
    "    (\n",
    "        \"//div[@class='step']/text()\",\n",
    "        \"//div[@class='step']/b/text()\",\n",
    "        \"//div[@class='step']/ul//li/text()\",\n",
    "    )\n",
    ")\n",
    "\n",
    "num_words = sum(len(x.split()) for x in\n",
    "    filter(\n",
    "        lambda x: x and len(x) > 1,\n",
    "        map(\n",
    "            lambda x: x.strip() if x else None,\n",
    "            tree.xpath(query),\n",
    "        ),\n",
    "    )\n",
    ")\n",
    "\n",
    "print(f\"words: {num_words}\")\n",
    "\n",
    "for i, e in enumerate(\n",
    "    filter(\n",
    "        lambda x: x and len(x) > 1,\n",
    "        map(\n",
    "            lambda x: x.strip() if x else None,\n",
    "            tree.xpath(query),\n",
    "        ),\n",
    "    ),\n",
    "):\n",
    "    print(i, \"-\", e.strip())\n"
   ]
  },
  {
   "cell_type": "code",
   "execution_count": 5,
   "metadata": {},
   "outputs": [
    {
     "name": "stdout",
     "output_type": "stream",
     "text": [
      "0 - /Determine-the-Sex-of-Puppies\n",
      "1 - /Calm-a-Male-Dog-when-a-Female-Is-in-Heat\n",
      "2 - /Know-if-Your-Female-Dog-Is-Ready-to-Breed\n",
      "3 - /Encourage-Dogs-to-Mate-Naturally\n",
      "4 - /Feed-and-Hydrate-a-Mother-Dog\n",
      "5 - /Revive-a-Puppy\n",
      "6 - /Help-a-Dog-in-Heat\n",
      "7 - /Deal-with-Puppy-Deaths-During-Birth\n",
      "8 - /Get-Dogs-to-Mate\n",
      "9 - /Know-if-Your-Male-Dog-Is-Ready-to-Breed\n",
      "10 - /Tell-if-Your-Dog-Is-in-Heat\n",
      "11 - /Know-if-a-Male-Dog-Is-Fertile\n",
      "12 - /Breed-French-Bulldogs\n",
      "13 - /Deal-with-Common-Mating-Problems-in-Dogs\n",
      "14 - /Determine-the-Sex-of-Puppies\n",
      "15 - /Calm-a-Male-Dog-when-a-Female-Is-in-Heat\n",
      "16 - /Know-if-Your-Female-Dog-Is-Ready-to-Breed\n",
      "17 - /Encourage-Dogs-to-Mate-Naturally\n"
     ]
    }
   ],
   "source": [
    "# we can go futher and instead of generating pages at random,\n",
    "# extract pages which wiki itself considers similar (EN version\n",
    "# also provides \"trending\" articles, which can also be useful)\n",
    "query = \"|\".join(\n",
    "    (\n",
    "        \"//a[@class='related-wh']/@href\",\n",
    "    )\n",
    ")\n",
    "\n",
    "for i, e in enumerate(\n",
    "    filter(\n",
    "        lambda x: x and len(x) > 1,\n",
    "        map(\n",
    "            lambda x: x.strip() if x else None,\n",
    "            tree.xpath(query),\n",
    "        ),\n",
    "    ),\n",
    "):\n",
    "    print(i, \"-\", e.strip())"
   ]
  },
  {
   "cell_type": "code",
   "execution_count": null,
   "metadata": {},
   "outputs": [],
   "source": [
    "# url can be decoded into human-readable string with urllib:\n",
    "# also see (bash aliases!): https://unix.stackexchange.com/questions/159253/decoding-url-encoding-percent-encoding\n",
    "url = \"https://ru.wikihow.com/%D0%BD%D0%B0%D1%83%D1%87%D0%B8%D1%82%D1%8C%D1%81%D1%8F-%D0%B1%D1%8B%D1%81%D1%82%D1%80%D0%B5%D0%B5-%D0%B1%D0%B5%D0%B3%D0%B0%D1%82%D1%8C\"\n",
    "urllib.parse.unquote(urllib.parse.urlparse(url).path)"
   ]
  },
  {
   "cell_type": "code",
   "execution_count": null,
   "metadata": {},
   "outputs": [],
   "source": [
    "# in such a manner, we can traverse the service and extract similar articles,\n",
    "# and sometimes pick pages from randomly generated ones.\n",
    "\n",
    "# I suppose that in sake of reproducibility, we would first extract a reasonable\n",
    "# number of pages and "
   ]
  }
 ],
 "metadata": {
  "kernelspec": {
   "display_name": ".venv",
   "language": "python",
   "name": "python3"
  },
  "language_info": {
   "codemirror_mode": {
    "name": "ipython",
    "version": 3
   },
   "file_extension": ".py",
   "mimetype": "text/x-python",
   "name": "python",
   "nbconvert_exporter": "python",
   "pygments_lexer": "ipython3",
   "version": "3.11.7"
  }
 },
 "nbformat": 4,
 "nbformat_minor": 2
}
